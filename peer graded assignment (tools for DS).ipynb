{
 "cells": [
  {
   "cell_type": "markdown",
   "id": "dc898db4",
   "metadata": {},
   "source": [
    "# My Jupyter Notebook on IBM Watson Studio"
   ]
  },
  {
   "cell_type": "markdown",
   "id": "3af2a3e3",
   "metadata": {},
   "source": [
    "__Muhammad Anas__ <br>\n",
    "MY current occupation is python programer and desired occupation is data science."
   ]
  },
  {
   "cell_type": "markdown",
   "id": "c005a640",
   "metadata": {},
   "source": [
    "I am intresting in Data science because this is very hot and emerging field.I am good in math,ML and python language so i choose data science field."
   ]
  },
  {
   "cell_type": "markdown",
   "id": "dbfb9cd8",
   "metadata": {},
   "source": [
    "### My code below will show the addtion of some numbers"
   ]
  },
  {
   "cell_type": "code",
   "execution_count": 1,
   "id": "043cce20",
   "metadata": {},
   "outputs": [
    {
     "name": "stdout",
     "output_type": "stream",
     "text": [
      "15\n"
     ]
    }
   ],
   "source": [
    "print(1+6+8)"
   ]
  },
  {
   "cell_type": "markdown",
   "id": "69b8b9dd",
   "metadata": {},
   "source": [
    "__My favrouit fruits__\n",
    "1. Banana\n",
    "2. Mango\n",
    "3. Apple\n",
    "\n",
    "| NAME | PROGRAM | GRADE |\n",
    "| --- | --- | --- |\n",
    "| tinkii | AI | 3.7 |\n",
    "| salman | ML | 3.4 |"
   ]
  }
 ],
 "metadata": {
  "kernelspec": {
   "display_name": "Python 3 (ipykernel)",
   "language": "python",
   "name": "python3"
  },
  "language_info": {
   "codemirror_mode": {
    "name": "ipython",
    "version": 3
   },
   "file_extension": ".py",
   "mimetype": "text/x-python",
   "name": "python",
   "nbconvert_exporter": "python",
   "pygments_lexer": "ipython3",
   "version": "3.9.12"
  }
 },
 "nbformat": 4,
 "nbformat_minor": 5
}
