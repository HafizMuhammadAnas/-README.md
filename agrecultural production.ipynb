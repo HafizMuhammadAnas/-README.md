{
 "cells": [
  {
   "cell_type": "code",
   "execution_count": 1,
   "id": "d9b14eec",
   "metadata": {},
   "outputs": [],
   "source": [
    "# for manipulation \n",
    "import numpy as np\n",
    "import pandas as pd\n",
    "# for visulization\n",
    "import matplotlib.pyplot as plt\n",
    "import seaborn as sns\n",
    "# for integration \n",
    "from  ipywidgets import interact\n"
   ]
  },
  {
   "cell_type": "code",
   "execution_count": 2,
   "id": "0366310b",
   "metadata": {},
   "outputs": [],
   "source": [
    "# using read_csv function for showing the comma seprated values dataset by pandas \n",
    "data = pd.read_csv(\"Crop_recommendation.csv\")"
   ]
  },
  {
   "cell_type": "code",
   "execution_count": 3,
   "id": "b287cd54",
   "metadata": {},
   "outputs": [
    {
     "name": "stdout",
     "output_type": "stream",
     "text": [
      "        N   P   K  temperature   humidity        ph    rainfall   label\n",
      "0      90  42  43    20.879744  82.002744  6.502985  202.935536    rice\n",
      "1      85  58  41    21.770462  80.319644  7.038096  226.655537    rice\n",
      "2      60  55  44    23.004459  82.320763  7.840207  263.964248    rice\n",
      "3      74  35  40    26.491096  80.158363  6.980401  242.864034    rice\n",
      "4      78  42  42    20.130175  81.604873  7.628473  262.717340    rice\n",
      "...   ...  ..  ..          ...        ...       ...         ...     ...\n",
      "2195  107  34  32    26.774637  66.413269  6.780064  177.774507  coffee\n",
      "2196   99  15  27    27.417112  56.636362  6.086922  127.924610  coffee\n",
      "2197  118  33  30    24.131797  67.225123  6.362608  173.322839  coffee\n",
      "2198  117  32  34    26.272418  52.127394  6.758793  127.175293  coffee\n",
      "2199  104  18  30    23.603016  60.396475  6.779833  140.937041  coffee\n",
      "\n",
      "[2200 rows x 8 columns]\n"
     ]
    }
   ],
   "source": [
    "print(data)"
   ]
  },
  {
   "cell_type": "code",
   "execution_count": 4,
   "id": "81534aa6",
   "metadata": {},
   "outputs": [
    {
     "data": {
      "text/html": [
       "<div>\n",
       "<style scoped>\n",
       "    .dataframe tbody tr th:only-of-type {\n",
       "        vertical-align: middle;\n",
       "    }\n",
       "\n",
       "    .dataframe tbody tr th {\n",
       "        vertical-align: top;\n",
       "    }\n",
       "\n",
       "    .dataframe thead th {\n",
       "        text-align: right;\n",
       "    }\n",
       "</style>\n",
       "<table border=\"1\" class=\"dataframe\">\n",
       "  <thead>\n",
       "    <tr style=\"text-align: right;\">\n",
       "      <th></th>\n",
       "      <th>N</th>\n",
       "      <th>P</th>\n",
       "      <th>K</th>\n",
       "      <th>temperature</th>\n",
       "      <th>humidity</th>\n",
       "      <th>ph</th>\n",
       "      <th>rainfall</th>\n",
       "      <th>label</th>\n",
       "    </tr>\n",
       "  </thead>\n",
       "  <tbody>\n",
       "    <tr>\n",
       "      <th>0</th>\n",
       "      <td>90</td>\n",
       "      <td>42</td>\n",
       "      <td>43</td>\n",
       "      <td>20.879744</td>\n",
       "      <td>82.002744</td>\n",
       "      <td>6.502985</td>\n",
       "      <td>202.935536</td>\n",
       "      <td>rice</td>\n",
       "    </tr>\n",
       "    <tr>\n",
       "      <th>1</th>\n",
       "      <td>85</td>\n",
       "      <td>58</td>\n",
       "      <td>41</td>\n",
       "      <td>21.770462</td>\n",
       "      <td>80.319644</td>\n",
       "      <td>7.038096</td>\n",
       "      <td>226.655537</td>\n",
       "      <td>rice</td>\n",
       "    </tr>\n",
       "    <tr>\n",
       "      <th>2</th>\n",
       "      <td>60</td>\n",
       "      <td>55</td>\n",
       "      <td>44</td>\n",
       "      <td>23.004459</td>\n",
       "      <td>82.320763</td>\n",
       "      <td>7.840207</td>\n",
       "      <td>263.964248</td>\n",
       "      <td>rice</td>\n",
       "    </tr>\n",
       "    <tr>\n",
       "      <th>3</th>\n",
       "      <td>74</td>\n",
       "      <td>35</td>\n",
       "      <td>40</td>\n",
       "      <td>26.491096</td>\n",
       "      <td>80.158363</td>\n",
       "      <td>6.980401</td>\n",
       "      <td>242.864034</td>\n",
       "      <td>rice</td>\n",
       "    </tr>\n",
       "    <tr>\n",
       "      <th>4</th>\n",
       "      <td>78</td>\n",
       "      <td>42</td>\n",
       "      <td>42</td>\n",
       "      <td>20.130175</td>\n",
       "      <td>81.604873</td>\n",
       "      <td>7.628473</td>\n",
       "      <td>262.717340</td>\n",
       "      <td>rice</td>\n",
       "    </tr>\n",
       "  </tbody>\n",
       "</table>\n",
       "</div>"
      ],
      "text/plain": [
       "    N   P   K  temperature   humidity        ph    rainfall label\n",
       "0  90  42  43    20.879744  82.002744  6.502985  202.935536  rice\n",
       "1  85  58  41    21.770462  80.319644  7.038096  226.655537  rice\n",
       "2  60  55  44    23.004459  82.320763  7.840207  263.964248  rice\n",
       "3  74  35  40    26.491096  80.158363  6.980401  242.864034  rice\n",
       "4  78  42  42    20.130175  81.604873  7.628473  262.717340  rice"
      ]
     },
     "execution_count": 4,
     "metadata": {},
     "output_type": "execute_result"
    }
   ],
   "source": [
    "# head function for first 5 rows\n",
    "data.head(\n",
    ")"
   ]
  },
  {
   "cell_type": "code",
   "execution_count": 5,
   "id": "2e234d14",
   "metadata": {},
   "outputs": [
    {
     "data": {
      "text/html": [
       "<div>\n",
       "<style scoped>\n",
       "    .dataframe tbody tr th:only-of-type {\n",
       "        vertical-align: middle;\n",
       "    }\n",
       "\n",
       "    .dataframe tbody tr th {\n",
       "        vertical-align: top;\n",
       "    }\n",
       "\n",
       "    .dataframe thead th {\n",
       "        text-align: right;\n",
       "    }\n",
       "</style>\n",
       "<table border=\"1\" class=\"dataframe\">\n",
       "  <thead>\n",
       "    <tr style=\"text-align: right;\">\n",
       "      <th></th>\n",
       "      <th>N</th>\n",
       "      <th>P</th>\n",
       "      <th>K</th>\n",
       "      <th>temperature</th>\n",
       "      <th>humidity</th>\n",
       "      <th>ph</th>\n",
       "      <th>rainfall</th>\n",
       "      <th>label</th>\n",
       "    </tr>\n",
       "  </thead>\n",
       "  <tbody>\n",
       "    <tr>\n",
       "      <th>2195</th>\n",
       "      <td>107</td>\n",
       "      <td>34</td>\n",
       "      <td>32</td>\n",
       "      <td>26.774637</td>\n",
       "      <td>66.413269</td>\n",
       "      <td>6.780064</td>\n",
       "      <td>177.774507</td>\n",
       "      <td>coffee</td>\n",
       "    </tr>\n",
       "    <tr>\n",
       "      <th>2196</th>\n",
       "      <td>99</td>\n",
       "      <td>15</td>\n",
       "      <td>27</td>\n",
       "      <td>27.417112</td>\n",
       "      <td>56.636362</td>\n",
       "      <td>6.086922</td>\n",
       "      <td>127.924610</td>\n",
       "      <td>coffee</td>\n",
       "    </tr>\n",
       "    <tr>\n",
       "      <th>2197</th>\n",
       "      <td>118</td>\n",
       "      <td>33</td>\n",
       "      <td>30</td>\n",
       "      <td>24.131797</td>\n",
       "      <td>67.225123</td>\n",
       "      <td>6.362608</td>\n",
       "      <td>173.322839</td>\n",
       "      <td>coffee</td>\n",
       "    </tr>\n",
       "    <tr>\n",
       "      <th>2198</th>\n",
       "      <td>117</td>\n",
       "      <td>32</td>\n",
       "      <td>34</td>\n",
       "      <td>26.272418</td>\n",
       "      <td>52.127394</td>\n",
       "      <td>6.758793</td>\n",
       "      <td>127.175293</td>\n",
       "      <td>coffee</td>\n",
       "    </tr>\n",
       "    <tr>\n",
       "      <th>2199</th>\n",
       "      <td>104</td>\n",
       "      <td>18</td>\n",
       "      <td>30</td>\n",
       "      <td>23.603016</td>\n",
       "      <td>60.396475</td>\n",
       "      <td>6.779833</td>\n",
       "      <td>140.937041</td>\n",
       "      <td>coffee</td>\n",
       "    </tr>\n",
       "  </tbody>\n",
       "</table>\n",
       "</div>"
      ],
      "text/plain": [
       "        N   P   K  temperature   humidity        ph    rainfall   label\n",
       "2195  107  34  32    26.774637  66.413269  6.780064  177.774507  coffee\n",
       "2196   99  15  27    27.417112  56.636362  6.086922  127.924610  coffee\n",
       "2197  118  33  30    24.131797  67.225123  6.362608  173.322839  coffee\n",
       "2198  117  32  34    26.272418  52.127394  6.758793  127.175293  coffee\n",
       "2199  104  18  30    23.603016  60.396475  6.779833  140.937041  coffee"
      ]
     },
     "execution_count": 5,
     "metadata": {},
     "output_type": "execute_result"
    }
   ],
   "source": [
    "#tail function for last 5 rows\n",
    "data.tail()"
   ]
  },
  {
   "cell_type": "code",
   "execution_count": 6,
   "id": "ff8e5234",
   "metadata": {},
   "outputs": [
    {
     "name": "stdout",
     "output_type": "stream",
     "text": [
      " shape of data set : (2200, 8)\n"
     ]
    }
   ],
   "source": [
    "# shape function for showing rows and columns \n",
    "print (\" shape of data set :\" , data.shape)"
   ]
  },
  {
   "cell_type": "code",
   "execution_count": 7,
   "id": "362f4a05",
   "metadata": {},
   "outputs": [
    {
     "data": {
      "text/plain": [
       "N              0\n",
       "P              0\n",
       "K              0\n",
       "temperature    0\n",
       "humidity       0\n",
       "ph             0\n",
       "rainfall       0\n",
       "label          0\n",
       "dtype: int64"
      ]
     },
     "execution_count": 7,
     "metadata": {},
     "output_type": "execute_result"
    }
   ],
   "source": [
    "# isnull() is used for chacking null values from every columns\n",
    "data.isnull().sum()"
   ]
  },
  {
   "cell_type": "code",
   "execution_count": 8,
   "id": "b6c5574c",
   "metadata": {},
   "outputs": [
    {
     "data": {
      "text/plain": [
       "rice           100\n",
       "maize          100\n",
       "jute           100\n",
       "cotton         100\n",
       "coconut        100\n",
       "papaya         100\n",
       "orange         100\n",
       "apple          100\n",
       "muskmelon      100\n",
       "watermelon     100\n",
       "grapes         100\n",
       "mango          100\n",
       "banana         100\n",
       "pomegranate    100\n",
       "lentil         100\n",
       "blackgram      100\n",
       "mungbean       100\n",
       "mothbeans      100\n",
       "pigeonpeas     100\n",
       "kidneybeans    100\n",
       "chickpea       100\n",
       "coffee         100\n",
       "Name: label, dtype: int64"
      ]
     },
     "execution_count": 8,
     "metadata": {},
     "output_type": "execute_result"
    }
   ],
   "source": [
    "#value_counts() is used for counting the values of every item like rice has 100 values\n",
    "data[\"label\"].value_counts()"
   ]
  },
  {
   "cell_type": "code",
   "execution_count": 9,
   "id": "15c0ae6a",
   "metadata": {},
   "outputs": [
    {
     "name": "stdout",
     "output_type": "stream",
     "text": [
      " Average ratio of N in the soil : 50.55\n",
      " Average ratio of P in the soil : 53.36\n",
      " Average ratio of K in the soil : 48.15\n",
      " Average ratio of temrature in the celsius : 25.62\n",
      " Average ratio of humidity in the % : 71.48\n",
      " Average ratio of ph in the water and soil : 6.47\n",
      " Average ratio of rainfall on the soil in mm : 103.46\n"
     ]
    }
   ],
   "source": [
    "# mean() is used for finding the average\n",
    "print(\" Average ratio of N in the soil : {0:.2f}\".format(data[\"N\"].mean()))\n",
    "print(\" Average ratio of P in the soil : {0:.2f}\".format(data[\"P\"].mean()))\n",
    "print(\" Average ratio of K in the soil : {0:.2f}\".format(data[\"K\"].mean()))\n",
    "print(\" Average ratio of temrature in the celsius : {0:.2f}\".format(data[\"temperature\"].mean()))\n",
    "print(\" Average ratio of humidity in the % : {0:.2f}\".format(data[\"humidity\"].mean()))\n",
    "print(\" Average ratio of ph in the water and soil : {0:.2f}\".format(data[\"ph\"].mean()))\n",
    "print(\" Average ratio of rainfall on the soil in mm : {0:.2f}\".format(data[\"rainfall\"].mean()))"
   ]
  },
  {
   "cell_type": "code",
   "execution_count": 37,
   "id": "4b50a5c6",
   "metadata": {},
   "outputs": [
    {
     "data": {
      "application/vnd.jupyter.widget-view+json": {
       "model_id": "540a8cac73f04228aec3bb4b471ba633",
       "version_major": 2,
       "version_minor": 0
      },
      "text/plain": [
       "interactive(children=(Dropdown(description='croups', options=('rice', 'maize', 'jute', 'cotton', 'coconut', 'p…"
      ]
     },
     "metadata": {},
     "output_type": "display_data"
    }
   ],
   "source": [
    "@interact\n",
    "def summary( croups = list(data[\"label\"].value_counts().index)):\n",
    "            x=data[data[\"label\"]==croups]\n",
    "            print(\"--------------------------------------------------------------\")\n",
    "            print(\" minimum N required :\", x[\"N\"].min())\n",
    "            print(\"  avg N required  :\", x[\"N\"].mean())\n",
    "            print(\"  maximum N required  :\", x[\"N\"].max())\n",
    "            print(\"--------------------------------------------------------------\")\n",
    "            print(\" minimum P required :\", x[\"P\"].min())\n",
    "            print(\"  avg P required  :\", x[\"P\"].mean())\n",
    "            print(\"  maximum P required  :\", x[\"P\"].max())\n",
    "            print(\"--------------------------------------------------------------\")\n",
    "            print(\" minimum K required :\", x[\"K\"].min())\n",
    "            print(\"  avg K required  :\", x[\"K\"].mean())\n",
    "            print(\"  maximum K required  :\", x[\"K\"].max())\n",
    "            print(\"--------------------------------------------------------------\")\n",
    "            print(\" minimum temperature required :\", x[\"temperature\"].min())\n",
    "            print(\"  avg temperature required  :\", x[\"temperature\"].mean())\n",
    "            print(\"  maximum temperature required  :\", x[\"temperature\"].max())\n",
    "            print(\"--------------------------------------------------------------\")\n",
    "            print(\" minimum humidity required :\", x[\"humidity\"].min())\n",
    "            print(\"  avg humidity required  :\", x[\"humidity\"].mean())\n",
    "            print(\"  maximum humidity required  :\", x[\"humidity\"].max())\n",
    "            print(\"--------------------------------------------------------------\")\n",
    "            print(\" minimum ph required :\", x[\"ph\"].min())\n",
    "            print(\"  avg ph required  :\", x[\"ph\"].mean())\n",
    "            print(\"  maximum ph required  :\", x[\"ph\"].max())\n",
    "            print(\"--------------------------------------------------------------\")\n",
    "            print(\" minimum rainfall required :\", x[\"rainfall\"].min())\n",
    "            print(\"  avg rainfall required  :\", x[\"rainfall\"].mean())\n",
    "            print(\"  maximum rainfall required  :\", x[\"rainfall\"].max())\n",
    "            "
   ]
  },
  {
   "cell_type": "code",
   "execution_count": 11,
   "id": "cff169aa",
   "metadata": {},
   "outputs": [
    {
     "data": {
      "application/vnd.jupyter.widget-view+json": {
       "model_id": "2dcb6a4ba89e4c03b1814b70fc89f5be",
       "version_major": 2,
       "version_minor": 0
      },
      "text/plain": [
       "interactive(children=(Dropdown(description='conditions', options=('N', 'P', 'K', 'temperature', 'humidity', 'p…"
      ]
     },
     "metadata": {},
     "output_type": "display_data"
    }
   ],
   "source": [
    "@interact\n",
    "def compare (conditions = ['N','P','K','temperature','humidity','ph','rainfall']):\n",
    "    print(\" Average value of\" ,conditions ,\"is : {0:.2f}\".format(data[conditions].mean  ()))\n",
    "    print(\"-----------------------------------------------------\")\n",
    "    print(\"rice : {0:.2f}\".format(data[(data[\"label\"]==\"rice\")][conditions].mean()))\n",
    "    print(\"maize : {0:.2f}\".format(data[(data[\"label\"]==\"maize\")][conditions].mean()))\n",
    "    print(\"jute : {0:.2f}\".format(data[(data[\"label\"]==\"jute\")][conditions].mean()))\n",
    "    print(\"cotton : {0:.2f}\".format(data[(data[\"label\"]==\"cotton\")][conditions].mean()))\n",
    "    print(\"coconut : {0:.2f}\".format(data[(data[\"label\"]==\"coconut\")][conditions].mean()))\n",
    "    print(\"papaya : {0:.2f}\".format(data[(data[\"label\"]==\"papaya\")][conditions].mean()))\n",
    "    print(\"orange : {0:.2f}\".format(data[(data[\"label\"]==\"orange\")][conditions].mean()))\n",
    "    print(\"apple : {0:.2f}\".format(data[(data[\"label\"]==\"apple\")][conditions].mean()))\n",
    "    print(\"muskmelon : {0:.2f}\".format(data[(data[\"label\"]==\"muskmelon\")][conditions].mean()))\n",
    "    print(\"grapes : {0:.2f}\".format(data[(data[\"label\"]==\"watermelon \")][conditions].mean()))\n",
    "    print(\"watermelon : {0:.2f}\".format(data[(data[\"label\"]==\"grapes\")][conditions].mean()))\n",
    "    print(\"mango : {0:.2f}\".format(data[(data[\"label\"]==\"mango\")][conditions].mean()))\n",
    "    print(\"banana : {0:.2f}\".format(data[(data[\"label\"]==\"banana\")][conditions].mean()))\n",
    "    print(\"pomegranate : {0:.2f}\".format(data[(data[\"label\"]==\"pomegranate\")][conditions].mean()))\n",
    "    print(\"coffee : {0:.2f}\".format(data[(data[\"label\"]==\"coffee\")][conditions].mean()))"
   ]
  },
  {
   "cell_type": "code",
   "execution_count": 12,
   "id": "c83fab8e",
   "metadata": {},
   "outputs": [
    {
     "data": {
      "application/vnd.jupyter.widget-view+json": {
       "model_id": "8861dcf8b5894a1a956e4ab1d7ac0d13",
       "version_major": 2,
       "version_minor": 0
      },
      "text/plain": [
       "interactive(children=(Dropdown(description='condition', options=('N', 'P', 'K', 'temperature', 'humidity', 'ph…"
      ]
     },
     "metadata": {},
     "output_type": "display_data"
    }
   ],
   "source": [
    "@interact\n",
    "def compare (condition =['N','P','K','temperature','humidity','ph','rainfall']):\n",
    "    print(\"items that required low temprature :\", condition,)\n",
    "    print(data[data[condition] > data[condition].mean()] ['label'].unique())\n",
    "    print(\"--------------------------------------\")\n",
    "    print(\"items that required hih temrature\", condition)\n",
    "    print(data[data[condition] <= data[condition].mean()][\"label\"].unique())\n",
    "    \n",
    "    "
   ]
  },
  {
   "cell_type": "code",
   "execution_count": 13,
   "id": "9b0ccfc7",
   "metadata": {},
   "outputs": [
    {
     "name": "stdout",
     "output_type": "stream",
     "text": [
      " we will discribe some intresting patterns from given data set\n",
      "------------------------------------------------------------------\n",
      "which item can grow in very high  ratio of nitrogen: ['cotton']\n",
      "which item can grow in very high ratio P: ['grapes' 'apple']\n",
      "which item can grow in very high temprature ratio: ['grapes' 'papaya']\n",
      "which item can grow in very high ph: ['rice' 'chickpea' 'pigeonpeas' 'mothbeans' 'mungbean' 'blackgram'\n",
      " 'lentil' 'pomegranate' 'orange' 'cotton' 'jute' 'coffee']\n"
     ]
    }
   ],
   "source": [
    "print ( \" we will discribe some intresting patterns from given data set\")\n",
    "print (\"------------------------------------------------------------------\")\n",
    "print (\"which item can grow in very high  ratio of nitrogen:\" , data[data['N']>120]['label'].unique())\n",
    "print (\"which item can grow in very high ratio P:\" , data[data['P']>120]['label'].unique())\n",
    "print (\"which item can grow in very high temprature ratio:\" , data[data['temperature']>40]['label'].unique())\n",
    "print (\"which item can grow in very high ph:\" , data[data['ph']>7]['label'].unique())"
   ]
  },
  {
   "cell_type": "code",
   "execution_count": 14,
   "id": "b7c377ef",
   "metadata": {},
   "outputs": [
    {
     "name": "stdout",
     "output_type": "stream",
     "text": [
      "summar crops\n",
      "['pigeonpeas' 'mothbeans' 'blackgram' 'mango' 'grapes' 'orange' 'papaya']\n",
      "winter crops\n",
      "['maize' 'pigeonpeas' 'lentil' 'pomegranate' 'grapes' 'orange']\n",
      "rainy crops\n",
      "['rice' 'papaya' 'coconut']\n"
     ]
    }
   ],
   "source": [
    "print(\"summar crops\")\n",
    "print(data[(data[\"temperature\"] > 30) & (data[\"humidity\"] > 40)]['label'].unique())\n",
    "print(\"winter crops\")\n",
    "print(data[(data[\"temperature\"] < 20) & (data[\"humidity\"] > 30)]['label'].unique())\n",
    "print(\"rainy crops\")\n",
    "print(data[(data[\"rainfall\"] > 200) & (data[\"humidity\"] > 60)]['label'].unique())"
   ]
  },
  {
   "cell_type": "code",
   "execution_count": 15,
   "id": "57d9c3f2",
   "metadata": {},
   "outputs": [
    {
     "name": "stdout",
     "output_type": "stream",
     "text": [
      "(2200, 7)\n"
     ]
    }
   ],
   "source": [
    "# drop function is used fordeleting any columns\n",
    "from sklearn.cluster import KMeans\n",
    "\n",
    "x = data.drop(['label'], axis=1)\n",
    "\n",
    "print(x.shape)"
   ]
  },
  {
   "cell_type": "code",
   "execution_count": 16,
   "id": "2b32fea3",
   "metadata": {},
   "outputs": [
    {
     "data": {
      "image/png": "[encoded data removed]",
      "text/plain": [
       "<Figure size 576x288 with 1 Axes>"
      ]
     },
     "metadata": {
      "needs_background": "light"
     },
     "output_type": "display_data"
    }
   ],
   "source": [
    "plt.rcParams[\"figure.figsize\"]=(8,4)\n",
    "wcss= []\n",
    "for i in range(1 , 11):\n",
    "    km=KMeans(n_clusters = i, init= \"k-means++\" , max_iter=300 , n_init =8 , random_state=0)\n",
    "    km.fit(x)\n",
    "    wcss.append(km.inertia_)\n",
    "plt.plot(range(1 , 11) , wcss)\n",
    "plt.title(\"l boo\")\n",
    "plt.xlabel(\"x\")\n",
    "plt.ylabel(\"y\")\n",
    "plt.show()\n"
   ]
  },
  {
   "cell_type": "code",
   "execution_count": 17,
   "id": "7a5abe0a",
   "metadata": {},
   "outputs": [
    {
     "name": "stdout",
     "output_type": "stream",
     "text": [
      " lets chack the result after appling the K_ mean clustwr algorithms \n",
      "\n",
      "crop in first cluster ['maize' 'chickpea' 'kidneybeans' 'pigeonpeas' 'mothbeans' 'mungbean'\n",
      " 'blackgram' 'lentil' 'pomegranate' 'mango' 'orange' 'papaya' 'coconut']\n",
      " crop in second cluster ['maize' 'banana' 'watermelon' 'muskmelon' 'papaya' 'cotton' 'coffee']\n",
      " crop in third cluster ['grapes' 'apple']\n",
      " crop in 4th cluster ['grapes' 'apple']\n"
     ]
    }
   ],
   "source": [
    " km=KMeans(n_clusters = 4, init= \"k-means++\" , max_iter=300 , n_init =8 , random_state=0)\n",
    "y_means=km.fit_predict(x)\n",
    "a= data [\"label\"]\n",
    "y_means=pd.DataFrame(y_means)\n",
    "z= pd.concat([y_means , a] , axis = 1)\n",
    "z=z.rename(columns = {0 : 'cluster'})\n",
    "print(\" lets chack the result after appling the K_ mean clustwr algorithms \\n\" )\n",
    "print (\"crop in first cluster\", z[z['cluster']==0]['label'].unique())\n",
    "print (\" crop in second cluster\", z[z['cluster']==1]['label'].unique())\n",
    "print (\" crop in third cluster\", z[z['cluster']==2]['label'].unique())\n",
    "print (\" crop in 4th cluster\", z[z['cluster']==2]['label'].unique())"
   ]
  },
  {
   "cell_type": "code",
   "execution_count": 19,
   "id": "8e82a94a",
   "metadata": {},
   "outputs": [
    {
     "name": "stdout",
     "output_type": "stream",
     "text": [
      "shape of x (2200, 7)\n",
      "shape of y (2200,)\n"
     ]
    }
   ],
   "source": [
    "y=data['label']\n",
    "x= data.drop(['label'] ,axis=1)\n",
    "print(\"shape of x\" , x.shape)\n",
    "print(\"shape of y\" , y.shape)"
   ]
  },
  {
   "cell_type": "code",
   "execution_count": 20,
   "id": "1f65511c",
   "metadata": {},
   "outputs": [
    {
     "name": "stdout",
     "output_type": "stream",
     "text": [
      "x test shape (440, 7)\n",
      "x train shape (1760, 7)\n",
      "y test shape (440,)\n",
      "y train shape (1760,)\n"
     ]
    }
   ],
   "source": [
    "from sklearn.model_selection import train_test_split\n",
    "x_train , x_test , y_train , y_test = train_test_split(x,y, test_size= 0.2 , random_state= 0)\n",
    "print(\"x test shape\" , x_test.shape)\n",
    "print(\"x train shape\" , x_train.shape)\n",
    "print(\"y test shape\" , y_test.shape)\n",
    "print(\"y train shape\" , y_train.shape)"
   ]
  },
  {
   "cell_type": "code",
   "execution_count": 21,
   "id": "c7daf606",
   "metadata": {},
   "outputs": [
    {
     "name": "stderr",
     "output_type": "stream",
     "text": [
      "D:\\anaconda\\lib\\site-packages\\sklearn\\linear_model\\_logistic.py:814: ConvergenceWarning: lbfgs failed to converge (status=1):\n",
      "STOP: TOTAL NO. of ITERATIONS REACHED LIMIT.\n",
      "\n",
      "Increase the number of iterations (max_iter) or scale the data as shown in:\n",
      "    https://scikit-learn.org/stable/modules/preprocessing.html\n",
      "Please also refer to the documentation for alternative solver options:\n",
      "    https://scikit-learn.org/stable/modules/linear_model.html#logistic-regression\n",
      "  n_iter_i = _check_optimize_result(\n"
     ]
    }
   ],
   "source": [
    "from sklearn.linear_model import LogisticRegression\n",
    "\n",
    "model = LogisticRegression()\n",
    "model.fit(x_train, y_train)\n",
    "y_pred=model.predict(x_test)"
   ]
  },
  {
   "cell_type": "code",
   "execution_count": 22,
   "id": "234eb5ec",
   "metadata": {},
   "outputs": [
    {
     "data": {
      "image/png": "[encoded data removed]",
      "text/plain": [
       "<Figure size 720x720 with 2 Axes>"
      ]
     },
     "metadata": {
      "needs_background": "light"
     },
     "output_type": "display_data"
    }
   ],
   "source": [
    "from sklearn.metrics import confusion_matrix\n",
    "plt.rcParams['figure.figsize'] = (10 , 10)\n",
    "cm = confusion_matrix(y_test, y_pred)\n",
    "sns.heatmap(cm , annot = True , cmap = 'Wistia')\n",
    "plt.show()"
   ]
  },
  {
   "cell_type": "code",
   "execution_count": null,
   "id": "dcbadcf1",
   "metadata": {},
   "outputs": [],
   "source": []
  },
  {
   "cell_type": "code",
   "execution_count": 24,
   "id": "d1fcdda7",
   "metadata": {},
   "outputs": [
    {
     "data": {
      "text/html": [
       "<div>\n",
       "<style scoped>\n",
       "    .dataframe tbody tr th:only-of-type {\n",
       "        vertical-align: middle;\n",
       "    }\n",
       "\n",
       "    .dataframe tbody tr th {\n",
       "        vertical-align: top;\n",
       "    }\n",
       "\n",
       "    .dataframe thead th {\n",
       "        text-align: right;\n",
       "    }\n",
       "</style>\n",
       "<table border=\"1\" class=\"dataframe\">\n",
       "  <thead>\n",
       "    <tr style=\"text-align: right;\">\n",
       "      <th></th>\n",
       "      <th>N</th>\n",
       "      <th>P</th>\n",
       "      <th>K</th>\n",
       "      <th>temperature</th>\n",
       "      <th>humidity</th>\n",
       "      <th>ph</th>\n",
       "      <th>rainfall</th>\n",
       "      <th>label</th>\n",
       "    </tr>\n",
       "  </thead>\n",
       "  <tbody>\n",
       "    <tr>\n",
       "      <th>0</th>\n",
       "      <td>90</td>\n",
       "      <td>42</td>\n",
       "      <td>43</td>\n",
       "      <td>20.879744</td>\n",
       "      <td>82.002744</td>\n",
       "      <td>6.502985</td>\n",
       "      <td>202.935536</td>\n",
       "      <td>rice</td>\n",
       "    </tr>\n",
       "    <tr>\n",
       "      <th>1</th>\n",
       "      <td>85</td>\n",
       "      <td>58</td>\n",
       "      <td>41</td>\n",
       "      <td>21.770462</td>\n",
       "      <td>80.319644</td>\n",
       "      <td>7.038096</td>\n",
       "      <td>226.655537</td>\n",
       "      <td>rice</td>\n",
       "    </tr>\n",
       "    <tr>\n",
       "      <th>2</th>\n",
       "      <td>60</td>\n",
       "      <td>55</td>\n",
       "      <td>44</td>\n",
       "      <td>23.004459</td>\n",
       "      <td>82.320763</td>\n",
       "      <td>7.840207</td>\n",
       "      <td>263.964248</td>\n",
       "      <td>rice</td>\n",
       "    </tr>\n",
       "    <tr>\n",
       "      <th>3</th>\n",
       "      <td>74</td>\n",
       "      <td>35</td>\n",
       "      <td>40</td>\n",
       "      <td>26.491096</td>\n",
       "      <td>80.158363</td>\n",
       "      <td>6.980401</td>\n",
       "      <td>242.864034</td>\n",
       "      <td>rice</td>\n",
       "    </tr>\n",
       "    <tr>\n",
       "      <th>4</th>\n",
       "      <td>78</td>\n",
       "      <td>42</td>\n",
       "      <td>42</td>\n",
       "      <td>20.130175</td>\n",
       "      <td>81.604873</td>\n",
       "      <td>7.628473</td>\n",
       "      <td>262.717340</td>\n",
       "      <td>rice</td>\n",
       "    </tr>\n",
       "  </tbody>\n",
       "</table>\n",
       "</div>"
      ],
      "text/plain": [
       "    N   P   K  temperature   humidity        ph    rainfall label\n",
       "0  90  42  43    20.879744  82.002744  6.502985  202.935536  rice\n",
       "1  85  58  41    21.770462  80.319644  7.038096  226.655537  rice\n",
       "2  60  55  44    23.004459  82.320763  7.840207  263.964248  rice\n",
       "3  74  35  40    26.491096  80.158363  6.980401  242.864034  rice\n",
       "4  78  42  42    20.130175  81.604873  7.628473  262.717340  rice"
      ]
     },
     "execution_count": 24,
     "metadata": {},
     "output_type": "execute_result"
    }
   ],
   "source": [
    "data.head()"
   ]
  },
  {
   "cell_type": "code",
   "execution_count": 30,
   "id": "8d4dbe38",
   "metadata": {},
   "outputs": [
    {
     "name": "stdout",
     "output_type": "stream",
     "text": [
      "result ['watermelon']\n"
     ]
    },
    {
     "name": "stderr",
     "output_type": "stream",
     "text": [
      "D:\\anaconda\\lib\\site-packages\\sklearn\\base.py:450: UserWarning: X does not have valid feature names, but LogisticRegression was fitted with feature names\n",
      "  warnings.warn(\n"
     ]
    }
   ],
   "source": [
    "prediction = model.predict((np.array([[120,50,50,40,52,7,40]])))\n",
    "print(\"result\" , prediction)"
   ]
  },
  {
   "cell_type": "code",
   "execution_count": null,
   "id": "84ef4544",
   "metadata": {},
   "outputs": [],
   "source": []
  }
 ],
 "metadata": {
  "kernelspec": {
   "display_name": "Python 3 (ipykernel)",
   "language": "python",
   "name": "python3"
  },
  "language_info": {
   "codemirror_mode": {
    "name": "ipython",
    "version": 3
   },
   "file_extension": ".py",
   "mimetype": "text/x-python",
   "name": "python",
   "nbconvert_exporter": "python",
   "pygments_lexer": "ipython3",
   "version": "3.9.12"
  }
 },
 "nbformat": 4,
 "nbformat_minor": 5
}
